{
  "nbformat": 4,
  "nbformat_minor": 0,
  "metadata": {
    "colab": {
      "name": "assignment2 global minimum .ipynb",
      "provenance": [],
      "authorship_tag": "ABX9TyMQvMa9IYIZ2hnEml9gJiwx",
      "include_colab_link": true
    },
    "kernelspec": {
      "name": "python3",
      "display_name": "Python 3"
    },
    "language_info": {
      "name": "python"
    }
  },
  "cells": [
    {
      "cell_type": "markdown",
      "metadata": {
        "id": "view-in-github",
        "colab_type": "text"
      },
      "source": [
        "<a href=\"https://colab.research.google.com/github/akhildharmula/AI/blob/main/assignment2_global_minimum_.ipynb\" target=\"_parent\"><img src=\"https://colab.research.google.com/assets/colab-badge.svg\" alt=\"Open In Colab\"/></a>"
      ]
    },
    {
      "cell_type": "code",
      "metadata": {
        "colab": {
          "base_uri": "https://localhost:8080/"
        },
        "id": "-YNYd2b4eHv6",
        "outputId": "16fd4c92-77d4-473e-b91e-eb578e4bb03a"
      },
      "source": [
        "import numpy as np\n",
        "x=np.random.uniform(-20,20)\n",
        "eta=0.001\n",
        "iter_max=500\n",
        "iter=0\n",
        "while iter<=iter_max:\n",
        "  grad_x=4*(x*x*x)+6*x\n",
        "  delx= -eta * grad_x\n",
        "  x=x+delx\n",
        "  iter=iter+1\n",
        "obj=x*x*x*x + 3*(x*x) +10\n",
        "print(\"Minimum value of function = \", round(obj) ,\"at x =\", round(x))\n"
      ],
      "execution_count": 2,
      "outputs": [
        {
          "output_type": "stream",
          "name": "stdout",
          "text": [
            "Minimum value of function =  10 at x = 0\n"
          ]
        }
      ]
    }
  ]
}