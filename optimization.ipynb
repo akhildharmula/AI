{
  "nbformat": 4,
  "nbformat_minor": 0,
  "metadata": {
    "colab": {
      "name": "optimization.ipynb",
      "provenance": [],
      "authorship_tag": "ABX9TyPqbrWQyhkzzSYEpvJSYaWY",
      "include_colab_link": true
    },
    "kernelspec": {
      "name": "python3",
      "display_name": "Python 3"
    },
    "language_info": {
      "name": "python"
    }
  },
  "cells": [
    {
      "cell_type": "markdown",
      "metadata": {
        "id": "view-in-github",
        "colab_type": "text"
      },
      "source": [
        "<a href=\"https://colab.research.google.com/github/akhildharmula/AI/blob/main/optimization.ipynb\" target=\"_parent\"><img src=\"https://colab.research.google.com/assets/colab-badge.svg\" alt=\"Open In Colab\"/></a>"
      ]
    },
    {
      "cell_type": "code",
      "metadata": {
        "colab": {
          "base_uri": "https://localhost:8080/"
        },
        "id": "LxrNtomrPrlz",
        "outputId": "763f6000-7209-41ab-fc1b-a40400a0537b"
      },
      "source": [
        "from scipy.optimize import linprog\n",
        "objective_fun=[-50,-40]\n",
        "ineq_coff=[[1,1],[7000,2000],[10,30]]\n",
        "ineq_const=[110,700000,1200]\n",
        "boundries=[(0,110),(0,110)]\n",
        "opt=linprog(c=objective_fun,A_ub=ineq_coff,b_ub=ineq_const,A_eq=None,b_eq=None,bounds=boundries,method=\"Simplex\")\n",
        "print(\"No of hectares for the wheat plant among the 110 hectares are \",round(opt.x[0]))\n",
        "print(\"No of hectares for the barley plant  among the 110 hectares are \",round(opt.x[1]))"
      ],
      "execution_count": 14,
      "outputs": [
        {
          "output_type": "stream",
          "text": [
            "No of hectares for the wheat plant among the 110 hectares are  98\n",
            "No of hectares for the barley plant  among the 110 hectares are  7\n"
          ],
          "name": "stdout"
        }
      ]
    }
  ]
}